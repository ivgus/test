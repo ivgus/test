{
  "cells": [
    {
      "cell_type": "markdown",
      "metadata": {
        "id": "view-in-github",
        "colab_type": "text"
      },
      "source": [
        "<a href=\"https://colab.research.google.com/github/ivgus/test/blob/main/homeworks/hw01_classification_and_attention/02_hw_fmnist_classification.ipynb\" target=\"_parent\"><img src=\"https://colab.research.google.com/assets/colab-badge.svg\" alt=\"Open In Colab\"/></a>"
      ]
    },
    {
      "cell_type": "markdown",
      "metadata": {
        "id": "nDsVMGiVgSq2"
      },
      "source": [
        "# Домашнее задание №1\n",
        "## Часть2: Классификация FashionMNIST\n",
        "##### Автор: [Радослав Нейчев](https://www.linkedin.com/in/radoslav-neychev/), https://t.me/s/rads_ai\n",
        "\n",
        "В данном задании вам предстоит решить достаточно простую задачу классификации изображений с помощью сверточных нейронных сетей."
      ]
    },
    {
      "cell_type": "code",
      "execution_count": 2,
      "metadata": {
        "id": "3isBRG6PgSq6"
      },
      "outputs": [],
      "source": [
        "# do not change the code in the block below\n",
        "# __________start of block__________\n",
        "import json\n",
        "import os\n",
        "import re\n",
        "\n",
        "import numpy as np\n",
        "import torch\n",
        "import torchvision\n",
        "from IPython.display import clear_output\n",
        "from matplotlib import pyplot as plt\n",
        "from torch import nn\n",
        "from torch.nn import functional as F\n",
        "from torchvision.datasets import FashionMNIST\n",
        "\n",
        "# __________end of block__________"
      ]
    },
    {
      "cell_type": "code",
      "execution_count": 3,
      "metadata": {
        "id": "6orRHw9RERUo"
      },
      "outputs": [],
      "source": [
        "# do not change the code in the block below\n",
        "# __________start of block__________\n",
        "def get_predictions(model, eval_data, step=10):\n",
        "\n",
        "    predicted_labels = []\n",
        "    model.eval()\n",
        "    with torch.no_grad():\n",
        "        for idx in range(0, len(eval_data), step):\n",
        "            y_predicted = model(eval_data[idx : idx + step].to(device))\n",
        "            predicted_labels.append(y_predicted.argmax(dim=1).cpu())\n",
        "\n",
        "    predicted_labels = torch.cat(predicted_labels)\n",
        "    predicted_labels = \",\".join([str(x.item()) for x in list(predicted_labels)])\n",
        "    return predicted_labels\n",
        "\n",
        "\n",
        "def get_accuracy(model, data_loader):\n",
        "    predicted_labels = []\n",
        "    real_labels = []\n",
        "    model.eval()\n",
        "    with torch.no_grad():\n",
        "        for batch in data_loader:\n",
        "            y_predicted = model(batch[0].to(device))\n",
        "            predicted_labels.append(y_predicted.argmax(dim=1).cpu())\n",
        "            real_labels.append(batch[1])\n",
        "\n",
        "    predicted_labels = torch.cat(predicted_labels)\n",
        "    real_labels = torch.cat(real_labels)\n",
        "    accuracy_score = (predicted_labels == real_labels).type(torch.FloatTensor).mean()\n",
        "    return accuracy_score\n",
        "\n",
        "\n",
        "# __________end of block__________"
      ]
    },
    {
      "cell_type": "markdown",
      "metadata": {
        "id": "qbN47tiWERUp"
      },
      "source": [
        "Загрузите файл `hw_overfitting_data_dict.npy` (ссылка есть на странице с заданием), он понадобится для генерации посылок. Код ниже может его загрузить (но в случае возникновения ошибки скачайте и загрузите его вручную).\n"
      ]
    },
    {
      "cell_type": "code",
      "execution_count": 4,
      "metadata": {
        "id": "o3RfZrhzERUq",
        "outputId": "4e18318d-f7fc-40c0-c2e9-bc14d650bb4b",
        "colab": {
          "base_uri": "https://localhost:8080/"
        }
      },
      "outputs": [
        {
          "output_type": "stream",
          "name": "stdout",
          "text": [
            "--2025-09-13 10:11:18--  https://github.com/girafe-ai/ml-course/raw/24f_ysda/homeworks/hw_overfitting/hw_overfitting_data_dict\n",
            "Resolving github.com (github.com)... 140.82.113.4\n",
            "Connecting to github.com (github.com)|140.82.113.4|:443... connected.\n",
            "HTTP request sent, awaiting response... 302 Found\n",
            "Location: https://raw.githubusercontent.com/girafe-ai/ml-course/24f_ysda/homeworks/hw_overfitting/hw_overfitting_data_dict [following]\n",
            "--2025-09-13 10:11:18--  https://raw.githubusercontent.com/girafe-ai/ml-course/24f_ysda/homeworks/hw_overfitting/hw_overfitting_data_dict\n",
            "Resolving raw.githubusercontent.com (raw.githubusercontent.com)... 185.199.108.133, 185.199.109.133, 185.199.110.133, ...\n",
            "Connecting to raw.githubusercontent.com (raw.githubusercontent.com)|185.199.108.133|:443... connected.\n",
            "HTTP request sent, awaiting response... 200 OK\n",
            "Length: 6272446 (6.0M) [application/octet-stream]\n",
            "Saving to: ‘hw_overfitting_data_dict.npy’\n",
            "\n",
            "hw_overfitting_data 100%[===================>]   5.98M  --.-KB/s    in 0.09s   \n",
            "\n",
            "2025-09-13 10:11:19 (68.5 MB/s) - ‘hw_overfitting_data_dict.npy’ saved [6272446/6272446]\n",
            "\n"
          ]
        }
      ],
      "source": [
        "!wget https://github.com/girafe-ai/ml-course/raw/24f_ysda/homeworks/hw_overfitting/hw_overfitting_data_dict -O hw_overfitting_data_dict.npy"
      ]
    },
    {
      "cell_type": "code",
      "execution_count": 5,
      "metadata": {
        "id": "H2s51ZlbERUr"
      },
      "outputs": [],
      "source": [
        "# do not change the code in the block below\n",
        "# __________start of block__________\n",
        "assert os.path.exists(\n",
        "    \"hw_overfitting_data_dict.npy\"\n",
        "), \"Please, download `hw_overfitting_data_dict.npy` and place it in the working directory\"\n",
        "\n",
        "# __________end of block__________"
      ]
    },
    {
      "cell_type": "markdown",
      "metadata": {
        "id": "zeA6Q5-CgSq7"
      },
      "source": [
        "Вернемся к задаче распознавания простых изображений, рассмотренной ранее. Но теперь будем работать с набором данных [FashionMNIST](https://github.com/zalandoresearch/fashion-mnist). В данном задании воспользуемся всем датасетом целиком.\n",
        "\n",
        "__Ваша первая задача: реализовать весь пайплан обучения модели и добиться качества $\\geq 88.5\\%$ на тестовой выборке.__\n",
        "\n",
        "Код для обучения модели в данном задании отсутствует. Присутствует лишь несколько тестов, которые помогут вам отладить свое решение. За примером можно обратиться к ноутбукам с предыдущих занятий."
      ]
    },
    {
      "cell_type": "code",
      "execution_count": 6,
      "metadata": {
        "id": "0N_1YXdcERUs"
      },
      "outputs": [],
      "source": [
        "CUDA_DEVICE_ID = 0  # change if needed"
      ]
    },
    {
      "cell_type": "code",
      "execution_count": 7,
      "metadata": {
        "id": "nPG1KbQAgl8b"
      },
      "outputs": [],
      "source": [
        "# do not change the code in the block below\n",
        "# __________start of block__________\n",
        "device = (\n",
        "    torch.device(f\"cuda:{CUDA_DEVICE_ID}\") if torch.cuda.is_available() else torch.device(\"cpu\")\n",
        ")\n",
        "# __________end of block__________"
      ]
    },
    {
      "cell_type": "code",
      "execution_count": 8,
      "metadata": {
        "colab": {
          "base_uri": "https://localhost:8080/",
          "height": 539
        },
        "id": "aYcL28OsgSq8",
        "outputId": "cbbc1a1b-968c-4701-bb94-e95fa04d5c5b"
      },
      "outputs": [
        {
          "output_type": "stream",
          "name": "stderr",
          "text": [
            "100%|██████████| 26.4M/26.4M [00:01<00:00, 18.9MB/s]\n",
            "100%|██████████| 29.5k/29.5k [00:00<00:00, 303kB/s]\n",
            "100%|██████████| 4.42M/4.42M [00:00<00:00, 5.61MB/s]\n",
            "100%|██████████| 5.15k/5.15k [00:00<00:00, 18.4MB/s]\n"
          ]
        },
        {
          "output_type": "execute_result",
          "data": {
            "text/plain": [
              "Text(0.5, 1.0, 'Image label: 8')"
            ]
          },
          "metadata": {},
          "execution_count": 8
        },
        {
          "output_type": "display_data",
          "data": {
            "text/plain": [
              "<Figure size 640x480 with 1 Axes>"
            ],
            "image/png": "[encoded data removed]"
          },
          "metadata": {}
        }
      ],
      "source": [
        "# do not change the code in the block below\n",
        "# __________start of block__________\n",
        "\n",
        "train_fmnist_data = FashionMNIST(\n",
        "    \".\", train=True, transform=torchvision.transforms.ToTensor(), download=True\n",
        ")\n",
        "test_fmnist_data = FashionMNIST(\n",
        "    \".\", train=False, transform=torchvision.transforms.ToTensor(), download=True\n",
        ")\n",
        "\n",
        "\n",
        "train_data_loader = torch.utils.data.DataLoader(\n",
        "    train_fmnist_data, batch_size=32, shuffle=True, num_workers=2\n",
        ")\n",
        "\n",
        "test_data_loader = torch.utils.data.DataLoader(\n",
        "    test_fmnist_data, batch_size=32, shuffle=False, num_workers=2\n",
        ")\n",
        "\n",
        "random_batch = next(iter(train_data_loader))\n",
        "_image, _label = random_batch[0][0], random_batch[1][0]\n",
        "plt.figure()\n",
        "plt.imshow(_image.reshape(28, 28))\n",
        "plt.title(f\"Image label: {_label}\")\n",
        "# __________end of block__________"
      ]
    },
    {
      "cell_type": "markdown",
      "metadata": {
        "id": "S6jWRv1rgSq8"
      },
      "source": [
        "Постройте модель ниже. Пожалуйста, не стройте переусложненную сеть, не стоит делать ее глубже четырех слоев (можно и меньше). Ваша основная задача – обучить модель и получить качество на отложенной (тестовой выборке) не менее 88.5% accuracy.\n",
        "\n",
        "__Внимание, ваша модель должна быть представлена именно переменной `model_task_1`. На вход ей должен приходить тензор размерностью (1, 28, 28).__"
      ]
    },
    {
      "cell_type": "code",
      "execution_count": 35,
      "metadata": {
        "id": "BcyEFX-RgSq8"
      },
      "outputs": [],
      "source": [
        "# Creating model instance\n",
        "model_task_1 = None\n",
        "# your code here\n",
        "model_task_1 = nn.Sequential(\n",
        "    nn.Conv2d(1,28,5,1,2),\n",
        "    nn.ReLU(),\n",
        "    nn.BatchNorm2d(28),\n",
        "    nn.MaxPool2d(2, 2),\n",
        "    nn.Dropout(0.25),\n",
        "    nn.Flatten(),\n",
        "    nn.Linear(5488,10),\n",
        "    nn.Softmax()\n",
        ")\n"
      ]
    },
    {
      "cell_type": "markdown",
      "metadata": {
        "id": "bAoLV4dkoy5M"
      },
      "source": [
        "Не забудьте перенести модель на выбранный `device`!"
      ]
    },
    {
      "cell_type": "code",
      "execution_count": 31,
      "metadata": {
        "id": "Xas9SIXDoxvZ",
        "outputId": "d4cb3685-b3c5-4996-e5c1-3b18352df387",
        "colab": {
          "base_uri": "https://localhost:8080/"
        }
      },
      "outputs": [
        {
          "output_type": "execute_result",
          "data": {
            "text/plain": [
              "Sequential(\n",
              "  (0): Conv2d(1, 28, kernel_size=(5, 5), stride=(1, 1), padding=(2, 2))\n",
              "  (1): ReLU()\n",
              "  (2): BatchNorm2d(28, eps=1e-05, momentum=0.1, affine=True, track_running_stats=True)\n",
              "  (3): MaxPool2d(kernel_size=2, stride=2, padding=0, dilation=1, ceil_mode=False)\n",
              "  (4): Dropout(p=0.25, inplace=False)\n",
              "  (5): Flatten(start_dim=1, end_dim=-1)\n",
              "  (6): Linear(in_features=5488, out_features=10, bias=True)\n",
              "  (7): Softmax(dim=None)\n",
              ")"
            ]
          },
          "metadata": {},
          "execution_count": 31
        }
      ],
      "source": [
        "model_task_1.to(device)"
      ]
    },
    {
      "cell_type": "markdown",
      "metadata": {
        "id": "6pLRWysggSq9"
      },
      "source": [
        "Локальные тесты для проверки вашей модели доступны ниже:"
      ]
    },
    {
      "cell_type": "code",
      "execution_count": 32,
      "metadata": {
        "colab": {
          "base_uri": "https://localhost:8080/"
        },
        "id": "_qMQzo1ggSq9",
        "outputId": "d4b44e91-8a2d-4d2b-f6e3-bb27cdc0edac"
      },
      "outputs": [
        {
          "output_type": "stream",
          "name": "stdout",
          "text": [
            "Everything seems fine!\n"
          ]
        },
        {
          "output_type": "stream",
          "name": "stderr",
          "text": [
            "/usr/local/lib/python3.12/dist-packages/torch/nn/modules/module.py:1773: UserWarning: Implicit dimension choice for softmax has been deprecated. Change the call to include dim=X as an argument.\n",
            "  return self._call_impl(*args, **kwargs)\n"
          ]
        }
      ],
      "source": [
        "# do not change the code in the block below\n",
        "# __________start of block__________\n",
        "assert model_task_1 is not None, \"Please, use `model_task_1` variable to store your model\"\n",
        "\n",
        "try:\n",
        "    x = random_batch[0].to(device)\n",
        "    y = random_batch[1].to(device)\n",
        "\n",
        "    # compute outputs given inputs, both are variables\n",
        "    y_predicted = model_task_1(x)\n",
        "except Exception as e:\n",
        "    print(\"Something is wrong with the model\")\n",
        "    raise e\n",
        "\n",
        "\n",
        "assert y_predicted.shape[-1] == 10, \"Model should predict 10 logits/probas\"\n",
        "\n",
        "print(\"Everything seems fine!\")\n",
        "# __________end of block__________"
      ]
    },
    {
      "cell_type": "markdown",
      "metadata": {
        "id": "suRmIPwIgSq9"
      },
      "source": [
        "Настройте параметры модели на обучающей выборке. Также рекомендуем поработать с `learning rate`."
      ]
    },
    {
      "cell_type": "code",
      "execution_count": 38,
      "metadata": {
        "id": "YJnU14bdnZa_",
        "outputId": "4a0e2583-fe91-4dd5-b8ce-0ce13aceb95b",
        "colab": {
          "base_uri": "https://localhost:8080/"
        }
      },
      "outputs": [
        {
          "output_type": "stream",
          "name": "stderr",
          "text": [
            "/usr/local/lib/python3.12/dist-packages/torch/nn/modules/module.py:1773: UserWarning: Implicit dimension choice for softmax has been deprecated. Change the call to include dim=X as an argument.\n",
            "  return self._call_impl(*args, **kwargs)\n"
          ]
        },
        {
          "output_type": "stream",
          "name": "stdout",
          "text": [
            "[1,   100] err: 1.707\n",
            "[1,   200] err: 1.672\n",
            "[1,   300] err: 1.636\n",
            "[1,   400] err: 1.629\n",
            "[1,   500] err: 1.618\n",
            "[1,   600] err: 1.616\n",
            "[1,   700] err: 1.620\n",
            "[1,   800] err: 1.617\n",
            "[1,   900] err: 1.620\n",
            "[1,  1000] err: 1.603\n",
            "[1,  1100] err: 1.604\n",
            "[1,  1200] err: 1.621\n",
            "[1,  1300] err: 1.617\n",
            "[1,  1400] err: 1.601\n",
            "[1,  1500] err: 1.613\n",
            "[1,  1600] err: 1.591\n",
            "[1,  1700] err: 1.596\n",
            "[1,  1800] err: 1.601\n",
            "Accuracy of the network on the test set: 85 %\n",
            "[2,   100] err: 1.599\n",
            "[2,   200] err: 1.615\n",
            "[2,   300] err: 1.593\n",
            "[2,   400] err: 1.599\n",
            "[2,   500] err: 1.600\n",
            "[2,   600] err: 1.595\n",
            "[2,   700] err: 1.592\n",
            "[2,   800] err: 1.595\n",
            "[2,   900] err: 1.596\n",
            "[2,  1000] err: 1.600\n",
            "[2,  1100] err: 1.584\n",
            "[2,  1200] err: 1.602\n",
            "[2,  1300] err: 1.599\n",
            "[2,  1400] err: 1.589\n",
            "[2,  1500] err: 1.585\n",
            "[2,  1600] err: 1.592\n",
            "[2,  1700] err: 1.593\n",
            "[2,  1800] err: 1.595\n",
            "Accuracy of the network on the test set: 85 %\n",
            "[3,   100] err: 1.584\n",
            "[3,   200] err: 1.584\n",
            "[3,   300] err: 1.581\n",
            "[3,   400] err: 1.580\n",
            "[3,   500] err: 1.584\n",
            "[3,   600] err: 1.585\n",
            "[3,   700] err: 1.581\n",
            "[3,   800] err: 1.583\n",
            "[3,   900] err: 1.575\n",
            "[3,  1000] err: 1.576\n",
            "[3,  1100] err: 1.584\n",
            "[3,  1200] err: 1.582\n",
            "[3,  1300] err: 1.572\n",
            "[3,  1400] err: 1.591\n",
            "[3,  1500] err: 1.578\n",
            "[3,  1600] err: 1.589\n",
            "[3,  1700] err: 1.600\n",
            "[3,  1800] err: 1.580\n",
            "Accuracy of the network on the test set: 86 %\n",
            "[4,   100] err: 1.575\n",
            "[4,   200] err: 1.569\n",
            "[4,   300] err: 1.579\n",
            "[4,   400] err: 1.575\n",
            "[4,   500] err: 1.578\n",
            "[4,   600] err: 1.575\n",
            "[4,   700] err: 1.570\n",
            "[4,   800] err: 1.580\n",
            "[4,   900] err: 1.588\n",
            "[4,  1000] err: 1.590\n",
            "[4,  1100] err: 1.574\n",
            "[4,  1200] err: 1.587\n",
            "[4,  1300] err: 1.588\n",
            "[4,  1400] err: 1.573\n",
            "[4,  1500] err: 1.575\n",
            "[4,  1600] err: 1.585\n",
            "[4,  1700] err: 1.576\n",
            "[4,  1800] err: 1.581\n",
            "Accuracy of the network on the test set: 87 %\n",
            "[5,   100] err: 1.577\n",
            "[5,   200] err: 1.573\n",
            "[5,   300] err: 1.566\n",
            "[5,   400] err: 1.568\n",
            "[5,   500] err: 1.566\n",
            "[5,   600] err: 1.569\n",
            "[5,   700] err: 1.578\n",
            "[5,   800] err: 1.576\n",
            "[5,   900] err: 1.583\n",
            "[5,  1000] err: 1.570\n",
            "[5,  1100] err: 1.584\n",
            "[5,  1200] err: 1.569\n",
            "[5,  1300] err: 1.570\n",
            "[5,  1400] err: 1.583\n",
            "[5,  1500] err: 1.568\n",
            "[5,  1600] err: 1.582\n",
            "[5,  1700] err: 1.575\n",
            "[5,  1800] err: 1.577\n",
            "Accuracy of the network on the test set: 87 %\n",
            "[6,   100] err: 1.582\n",
            "[6,   200] err: 1.562\n",
            "[6,   300] err: 1.569\n",
            "[6,   400] err: 1.570\n",
            "[6,   500] err: 1.578\n",
            "[6,   600] err: 1.573\n",
            "[6,   700] err: 1.566\n",
            "[6,   800] err: 1.571\n",
            "[6,   900] err: 1.567\n",
            "[6,  1000] err: 1.570\n",
            "[6,  1100] err: 1.571\n",
            "[6,  1200] err: 1.567\n",
            "[6,  1300] err: 1.571\n",
            "[6,  1400] err: 1.569\n",
            "[6,  1500] err: 1.570\n",
            "[6,  1600] err: 1.567\n",
            "[6,  1700] err: 1.568\n",
            "[6,  1800] err: 1.571\n",
            "Accuracy of the network on the test set: 87 %\n",
            "[7,   100] err: 1.577\n",
            "[7,   200] err: 1.565\n",
            "[7,   300] err: 1.566\n",
            "[7,   400] err: 1.574\n",
            "[7,   500] err: 1.570\n",
            "[7,   600] err: 1.573\n",
            "[7,   700] err: 1.570\n",
            "[7,   800] err: 1.569\n",
            "[7,   900] err: 1.582\n",
            "[7,  1000] err: 1.569\n",
            "[7,  1100] err: 1.558\n",
            "[7,  1200] err: 1.567\n",
            "[7,  1300] err: 1.564\n",
            "[7,  1400] err: 1.557\n",
            "[7,  1500] err: 1.567\n",
            "[7,  1600] err: 1.566\n",
            "[7,  1700] err: 1.573\n",
            "[7,  1800] err: 1.567\n",
            "Accuracy of the network on the test set: 86 %\n",
            "[8,   100] err: 1.566\n",
            "[8,   200] err: 1.566\n",
            "[8,   300] err: 1.566\n",
            "[8,   400] err: 1.572\n",
            "[8,   500] err: 1.570\n",
            "[8,   600] err: 1.568\n",
            "[8,   700] err: 1.570\n",
            "[8,   800] err: 1.564\n",
            "[8,   900] err: 1.564\n",
            "[8,  1000] err: 1.569\n",
            "[8,  1100] err: 1.571\n",
            "[8,  1200] err: 1.569\n",
            "[8,  1300] err: 1.567\n",
            "[8,  1400] err: 1.568\n",
            "[8,  1500] err: 1.564\n",
            "[8,  1600] err: 1.560\n",
            "[8,  1700] err: 1.573\n",
            "[8,  1800] err: 1.575\n",
            "Accuracy of the network on the test set: 88 %\n",
            "[9,   100] err: 1.572\n",
            "[9,   200] err: 1.565\n",
            "[9,   300] err: 1.562\n",
            "[9,   400] err: 1.573\n",
            "[9,   500] err: 1.557\n",
            "[9,   600] err: 1.556\n",
            "[9,   700] err: 1.560\n",
            "[9,   800] err: 1.555\n",
            "[9,   900] err: 1.574\n",
            "[9,  1000] err: 1.562\n",
            "[9,  1100] err: 1.571\n",
            "[9,  1200] err: 1.568\n",
            "[9,  1300] err: 1.568\n",
            "[9,  1400] err: 1.564\n",
            "[9,  1500] err: 1.564\n",
            "[9,  1600] err: 1.576\n",
            "[9,  1700] err: 1.561\n",
            "[9,  1800] err: 1.560\n",
            "Accuracy of the network on the test set: 87 %\n",
            "[10,   100] err: 1.555\n",
            "[10,   200] err: 1.571\n",
            "[10,   300] err: 1.561\n",
            "[10,   400] err: 1.556\n",
            "[10,   500] err: 1.555\n",
            "[10,   600] err: 1.569\n",
            "[10,   700] err: 1.559\n",
            "[10,   800] err: 1.563\n",
            "[10,   900] err: 1.565\n",
            "[10,  1000] err: 1.561\n",
            "[10,  1100] err: 1.566\n",
            "[10,  1200] err: 1.560\n",
            "[10,  1300] err: 1.552\n",
            "[10,  1400] err: 1.558\n",
            "[10,  1500] err: 1.572\n",
            "[10,  1600] err: 1.570\n",
            "[10,  1700] err: 1.563\n",
            "[10,  1800] err: 1.568\n",
            "Accuracy of the network on the test set: 88 %\n"
          ]
        }
      ],
      "source": [
        "# your code here\n",
        "loss = nn.CrossEntropyLoss()\n",
        "optimizer = torch.optim.Adam(model_task_1.parameters(), lr=0.001)\n",
        "\n",
        "for epoch in range(10):\n",
        "    running_err = 0.0\n",
        "    for i, data in enumerate(train_data_loader):\n",
        "        inputs, labels = data\n",
        "\n",
        "        optimizer.zero_grad()\n",
        "\n",
        "        inputs.to(device)\n",
        "        outputs = model_task_1(inputs)\n",
        "        err = loss(outputs, labels)\n",
        "        err.backward()\n",
        "        optimizer.step()\n",
        "\n",
        "        running_err += err.item()\n",
        "        if i % 100 == 99:\n",
        "            print('[%d, %5d] err: %.3f' % (epoch + 1, i + 1, running_err / 100))\n",
        "            running_err = 0.0\n",
        "\n",
        "    correct = 0\n",
        "    total = 0\n",
        "    with torch.no_grad():\n",
        "        for data in test_data_loader:\n",
        "            inputs, labels = data\n",
        "            outputs = model_task_1(inputs)\n",
        "            _, predicted = torch.max(outputs.data, 1)\n",
        "            total += labels.size(0)\n",
        "            correct += (predicted == labels).sum().item()\n",
        "\n",
        "    print('Accuracy of the network on the test set: %d %%' % (100 * correct / total))"
      ]
    },
    {
      "cell_type": "markdown",
      "metadata": {
        "id": "2zce7gt1gSq-"
      },
      "source": [
        "Также, напоминаем, что в любой момент можно обратиться к замечательной [документации](https://pytorch.org/docs/stable/index.html) и [обучающим примерам](https://pytorch.org/tutorials/).  "
      ]
    },
    {
      "cell_type": "markdown",
      "metadata": {
        "id": "usswrWYOgSq-"
      },
      "source": [
        "Оценим качество классификации:"
      ]
    },
    {
      "cell_type": "code",
      "execution_count": 42,
      "metadata": {
        "id": "Xua3TVZHgSq-",
        "outputId": "4c3caee0-5cbb-4b2a-e4af-d8eb5f96b9db",
        "colab": {
          "base_uri": "https://localhost:8080/"
        }
      },
      "outputs": [
        {
          "output_type": "stream",
          "name": "stderr",
          "text": [
            "/usr/local/lib/python3.12/dist-packages/torch/nn/modules/module.py:1773: UserWarning: Implicit dimension choice for softmax has been deprecated. Change the call to include dim=X as an argument.\n",
            "  return self._call_impl(*args, **kwargs)\n"
          ]
        },
        {
          "output_type": "stream",
          "name": "stdout",
          "text": [
            "Neural network accuracy on train set: 0.90577\n"
          ]
        }
      ],
      "source": [
        "model_task_1.to(device)\n",
        "train_acc_task_1 = get_accuracy(model_task_1, train_data_loader)\n",
        "print(f\"Neural network accuracy on train set: {train_acc_task_1:3.5}\")"
      ]
    },
    {
      "cell_type": "code",
      "execution_count": 43,
      "metadata": {
        "id": "l9KEKXBxgSq-",
        "outputId": "bc4ffa76-4bca-4fe4-bba6-ed204a7cf01b",
        "colab": {
          "base_uri": "https://localhost:8080/"
        }
      },
      "outputs": [
        {
          "output_type": "stream",
          "name": "stdout",
          "text": [
            "Neural network accuracy on test set: 0.8868\n"
          ]
        }
      ],
      "source": [
        "test_acc_task_1 = get_accuracy(model_task_1, test_data_loader)\n",
        "print(f\"Neural network accuracy on test set: {test_acc_task_1:3.5}\")"
      ]
    },
    {
      "cell_type": "markdown",
      "metadata": {
        "id": "4oyhmMobgSq_"
      },
      "source": [
        "Проверка, что необходимые пороги пройдены:"
      ]
    },
    {
      "cell_type": "code",
      "execution_count": 44,
      "metadata": {
        "id": "OAIrURCEgSq_"
      },
      "outputs": [],
      "source": [
        "assert test_acc_task_1 >= 0.885, \"Train accuracy is below 0.885 threshold\"\n",
        "assert (\n",
        "    train_acc_task_1 >= 0.905\n",
        "), \"Train accuracy is below 0.905 while test accuracy is fine. We recommend to check your model and data flow\""
      ]
    },
    {
      "cell_type": "markdown",
      "metadata": {
        "id": "2J2EZp6_ERUy"
      },
      "source": [
        "Обращаем внимане, код ниже предполагает, что ваша модель имеет содержится в переменной `model_task_1`, а файл `hw_fmnist_data_dict.npy` находится в той же директории, что и ноутбук (он доступен в репозитории)."
      ]
    },
    {
      "cell_type": "code",
      "execution_count": 46,
      "metadata": {
        "id": "mvwORBfiERUy",
        "outputId": "9a5e0547-79e9-43c7-948b-8e7914c311ed",
        "colab": {
          "base_uri": "https://localhost:8080/"
        }
      },
      "outputs": [
        {
          "output_type": "stream",
          "name": "stdout",
          "text": [
            "File saved to `submission_dict_fmnist_task_1.json`\n"
          ]
        }
      ],
      "source": [
        "# do not change the code in the block below\n",
        "# __________start of block__________\n",
        "assert os.path.exists(\n",
        "    \"hw_fmnist_data_dict.npy\"\n",
        "), \"Please, download `hw_fmnist_data_dict.npy` and place it in the working directory\"\n",
        "\n",
        "loaded_data_dict = np.load(\"hw_fmnist_data_dict.npy\", allow_pickle=True)\n",
        "\n",
        "submission_dict = {\n",
        "    \"train_predictions_task_1\": get_predictions(\n",
        "        model_task_1, torch.FloatTensor(loaded_data_dict.item()[\"train\"])\n",
        "    ),\n",
        "    \"test_predictions_task_1\": get_predictions(\n",
        "        model_task_1, torch.FloatTensor(loaded_data_dict.item()[\"test\"])\n",
        "    ),\n",
        "}\n",
        "\n",
        "with open(\"submission_dict_fmnist_task_1.json\", \"w\") as iofile:\n",
        "    json.dump(submission_dict, iofile)\n",
        "print(\"File saved to `submission_dict_fmnist_task_1.json`\")\n",
        "# __________end of block__________"
      ]
    },
    {
      "cell_type": "markdown",
      "metadata": {
        "id": "axn7pbrGERUy"
      },
      "source": [
        "### Сдача задания\n",
        "Сдайте сгенерированный файл в соответствующую задачу в соревновании, а именно:\n",
        "    \n",
        "* `submission_dict_fmnist_task_1.json` в задачу Separation"
      ]
    },
    {
      "cell_type": "markdown",
      "metadata": {
        "id": "OtWnYAN_gSrA"
      },
      "source": [
        "На этом задание завершено. Поздравляем!"
      ]
    }
  ],
  "metadata": {
    "accelerator": "GPU",
    "colab": {
      "gpuType": "T4",
      "provenance": [],
      "include_colab_link": true
    },
    "kernelspec": {
      "display_name": "Python 3 (ipykernel)",
      "language": "python",
      "name": "python3"
    },
    "language_info": {
      "codemirror_mode": {
        "name": "ipython",
        "version": 3
      },
      "file_extension": ".py",
      "mimetype": "text/x-python",
      "name": "python",
      "nbconvert_exporter": "python",
      "pygments_lexer": "ipython3",
      "version": "3.8.19"
    },
    "toc": {
      "base_numbering": 1,
      "nav_menu": {},
      "number_sections": true,
      "sideBar": true,
      "skip_h1_title": false,
      "title_cell": "Table of Contents",
      "title_sidebar": "Contents",
      "toc_cell": false,
      "toc_position": {},
      "toc_section_display": true,
      "toc_window_display": false
    },
    "vscode": {
      "interpreter": {
        "hash": "21499ab2a6726e29f7050b76af0e9680227e613293d630ba279de7ebdfad9cae"
      }
    }
  },
  "nbformat": 4,
  "nbformat_minor": 0
}